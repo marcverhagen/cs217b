{
 "cells": [
  {
   "cell_type": "markdown",
   "id": "454af39b-abf6-47aa-a610-891ba522833f",
   "metadata": {},
   "source": [
    "# Sequences, lists, iterables and iterators"
   ]
  },
  {
   "cell_type": "markdown",
   "id": "c146140d-ef38-4990-86b4-51371779b136",
   "metadata": {},
   "source": [
    "### Sequences\n",
    "\n",
    "Sequences includes lists and strings. They have a defined order and allow access to their elements by their index."
   ]
  },
  {
   "cell_type": "code",
   "execution_count": 1,
   "id": "4e3afbd2-4876-4751-ac7c-b403edbd9885",
   "metadata": {},
   "outputs": [],
   "source": [
    "l = [1,2,3,4,5]\n",
    "s = '12345'"
   ]
  },
  {
   "cell_type": "markdown",
   "id": "e52cbbb2-dfa5-4bfd-bf2c-7a5b523af326",
   "metadata": {},
   "source": [
    "You can loop over them and you access indexes:"
   ]
  },
  {
   "cell_type": "code",
   "execution_count": 2,
   "id": "65c72e63-5710-45e1-8901-a1f358bba0b5",
   "metadata": {},
   "outputs": [
    {
     "name": "stdout",
     "output_type": "stream",
     "text": [
      "1 1\n"
     ]
    }
   ],
   "source": [
    "print(l[0], s[0])"
   ]
  },
  {
   "cell_type": "markdown",
   "id": "f164427f-5158-47b3-b41d-f84e0b7d6b0b",
   "metadata": {},
   "source": [
    "### Iterables\n",
    "\n",
    "An iterable is an object that you can iterate over. It is one of the following:\n",
    "\n",
    "- anything that can be looped over (i.e. you can loop over a string or file)\n",
    "- anything you can call with iter() that will return an iterator\n",
    "- an object that defines \\__iter__ that returns a fresh iterator, or a \\__getitem__ method suitable for indexed lookup.\n",
    "\n",
    "Lists and strings are iterables."
   ]
  },
  {
   "cell_type": "code",
   "execution_count": 3,
   "id": "fba6ec99-0e50-4a65-99a9-9f29de50dfc4",
   "metadata": {},
   "outputs": [],
   "source": [
    "def expose(sequence):\n",
    "    for x in sequence:\n",
    "        print(sequence)\n",
    "    print(sequence.__iter__)\n",
    "    print(sequence.__getitem__)\n",
    "    print(iter(sequence))"
   ]
  },
  {
   "cell_type": "code",
   "execution_count": 4,
   "id": "bc4cf266-5d07-4d74-866b-14bbbe0be100",
   "metadata": {},
   "outputs": [
    {
     "name": "stdout",
     "output_type": "stream",
     "text": [
      "[1, 2, 3, 4, 5]\n",
      "[1, 2, 3, 4, 5]\n",
      "[1, 2, 3, 4, 5]\n",
      "[1, 2, 3, 4, 5]\n",
      "[1, 2, 3, 4, 5]\n",
      "<method-wrapper '__iter__' of list object at 0x10af3ab00>\n",
      "<built-in method __getitem__ of list object at 0x10af3ab00>\n",
      "<list_iterator object at 0x10ae2e590>\n"
     ]
    }
   ],
   "source": [
    "expose(l)"
   ]
  },
  {
   "cell_type": "code",
   "execution_count": 5,
   "id": "3c41a3c7-4e89-4cc0-9378-a120d444f0ac",
   "metadata": {},
   "outputs": [
    {
     "name": "stdout",
     "output_type": "stream",
     "text": [
      "12345\n",
      "12345\n",
      "12345\n",
      "12345\n",
      "12345\n",
      "<method-wrapper '__iter__' of str object at 0x10af03930>\n",
      "<method-wrapper '__getitem__' of str object at 0x10af03930>\n",
      "<str_iterator object at 0x10ae2e410>\n"
     ]
    }
   ],
   "source": [
    "expose(s)"
   ]
  },
  {
   "cell_type": "code",
   "execution_count": 6,
   "id": "46398c45-e353-463c-9f6d-2f6021ffac94",
   "metadata": {},
   "outputs": [
    {
     "ename": "TypeError",
     "evalue": "'str' object is not an iterator",
     "output_type": "error",
     "traceback": [
      "\u001b[0;31m---------------------------------------------------------------------------\u001b[0m",
      "\u001b[0;31mTypeError\u001b[0m                                 Traceback (most recent call last)",
      "Cell \u001b[0;32mIn[6], line 3\u001b[0m\n\u001b[1;32m      1\u001b[0m \u001b[38;5;66;03m# but you cannot do next()\u001b[39;00m\n\u001b[0;32m----> 3\u001b[0m \u001b[38;5;28;43mnext\u001b[39;49m\u001b[43m(\u001b[49m\u001b[43ms\u001b[49m\u001b[43m)\u001b[49m\n",
      "\u001b[0;31mTypeError\u001b[0m: 'str' object is not an iterator"
     ]
    }
   ],
   "source": [
    "# but you cannot do next()\n",
    "\n",
    "next(s)"
   ]
  },
  {
   "cell_type": "markdown",
   "id": "2c160d90-c930-46c6-9c37-326ab0ac9503",
   "metadata": {},
   "source": [
    "### Iterators\n",
    "\n",
    "An iterator is an object, which is used to iterate over an iterable object using the \\__next__() method.\n",
    "\n",
    "They have a memory and you can loop over them, but you cannot get their length or access an index."
   ]
  },
  {
   "cell_type": "code",
   "execution_count": 7,
   "id": "69f22eda-0028-4f13-bec9-330f83ac4a14",
   "metadata": {},
   "outputs": [
    {
     "name": "stdout",
     "output_type": "stream",
     "text": [
      "1\n",
      "2\n"
     ]
    }
   ],
   "source": [
    "iterator = iter(l)\n",
    "print(next(iterator))\n",
    "print(next(iterator))"
   ]
  },
  {
   "cell_type": "code",
   "execution_count": 8,
   "id": "35c585fe-9b1a-4023-8cc4-30f80ea9ffa9",
   "metadata": {},
   "outputs": [
    {
     "data": {
      "text/plain": [
       "3"
      ]
     },
     "execution_count": 8,
     "metadata": {},
     "output_type": "execute_result"
    }
   ],
   "source": [
    "next(iterator)"
   ]
  },
  {
   "cell_type": "code",
   "execution_count": 9,
   "id": "8187fbdc-7a99-4538-b440-f7c2362792ad",
   "metadata": {},
   "outputs": [
    {
     "ename": "TypeError",
     "evalue": "'list_iterator' object is not subscriptable",
     "output_type": "error",
     "traceback": [
      "\u001b[0;31m---------------------------------------------------------------------------\u001b[0m",
      "\u001b[0;31mTypeError\u001b[0m                                 Traceback (most recent call last)",
      "Cell \u001b[0;32mIn[9], line 1\u001b[0m\n\u001b[0;32m----> 1\u001b[0m \u001b[43miterator\u001b[49m\u001b[43m[\u001b[49m\u001b[38;5;241;43m0\u001b[39;49m\u001b[43m]\u001b[49m\n",
      "\u001b[0;31mTypeError\u001b[0m: 'list_iterator' object is not subscriptable"
     ]
    }
   ],
   "source": [
    "iterator[0]"
   ]
  },
  {
   "cell_type": "code",
   "execution_count": 10,
   "id": "49af686b-6e19-4ad2-bf8e-f65a04205444",
   "metadata": {},
   "outputs": [
    {
     "ename": "TypeError",
     "evalue": "object of type 'list_iterator' has no len()",
     "output_type": "error",
     "traceback": [
      "\u001b[0;31m---------------------------------------------------------------------------\u001b[0m",
      "\u001b[0;31mTypeError\u001b[0m                                 Traceback (most recent call last)",
      "Cell \u001b[0;32mIn[10], line 3\u001b[0m\n\u001b[1;32m      1\u001b[0m \u001b[38;5;66;03m# ... or get the length\u001b[39;00m\n\u001b[0;32m----> 3\u001b[0m \u001b[38;5;28;43mlen\u001b[39;49m\u001b[43m(\u001b[49m\u001b[43miterator\u001b[49m\u001b[43m)\u001b[49m\n",
      "\u001b[0;31mTypeError\u001b[0m: object of type 'list_iterator' has no len()"
     ]
    }
   ],
   "source": [
    "# ... or get the length\n",
    "\n",
    "len(iterator)"
   ]
  },
  {
   "cell_type": "markdown",
   "id": "382196b8-0e13-4ed8-8e26-845f8a75c158",
   "metadata": {},
   "source": [
    "### List emulation\n",
    "\n",
    "Use magic methods to make your object act as a list."
   ]
  },
  {
   "cell_type": "code",
   "execution_count": 11,
   "id": "a9addf45-70ea-480d-baa1-a216b4ef37e5",
   "metadata": {},
   "outputs": [
    {
     "name": "stdout",
     "output_type": "stream",
     "text": [
      "3 1\n",
      "4 22\n"
     ]
    }
   ],
   "source": [
    "class List:\n",
    "\n",
    "    def __init__(self):\n",
    "        self.data = [1,2,3]\n",
    "\n",
    "    def __len__(self):\n",
    "        return len(self.data)\n",
    "\n",
    "    def __getitem__(self, idx: int):\n",
    "        return self.data[idx]\n",
    "\n",
    "    def __setitem__(self, idx: int, value: str):\n",
    "        self.data[idx] = value\n",
    "\n",
    "    def append(self, element: int):\n",
    "        self.data.append(element)\n",
    "\n",
    "l = List()\n",
    "\n",
    "print(len(l), l[0])\n",
    "l[0] = 22\n",
    "l.append(4)\n",
    "print(len(l), l[0])"
   ]
  },
  {
   "cell_type": "markdown",
   "id": "fd392975-5763-42de-9864-ec214dd22d5b",
   "metadata": {},
   "source": [
    "### Building your own iterator"
   ]
  },
  {
   "cell_type": "code",
   "execution_count": 12,
   "id": "3fd0e1f6-ecce-475f-a37f-da6371aba998",
   "metadata": {},
   "outputs": [
    {
     "name": "stdout",
     "output_type": "stream",
     "text": [
      "1\n",
      "2\n",
      "3\n"
     ]
    }
   ],
   "source": [
    "class Iterator:\n",
    "\n",
    "    def __init__(self):\n",
    "        self.data = [1,2,3]\n",
    "        self.size = len(self.data)\n",
    "        self.counter = -1\n",
    "\n",
    "    def __iter__(self):\n",
    "        return(self)\n",
    "\n",
    "    def __next__(self):\n",
    "        self.counter += 1\n",
    "        if self.counter < self.size:\n",
    "            return self.data[self.counter]\n",
    "        else:\n",
    "            raise StopIteration\n",
    "\n",
    "for element in Iterator():\n",
    "    print(element)"
   ]
  },
  {
   "cell_type": "code",
   "execution_count": 13,
   "id": "73ab12fb-31de-45de-a893-866272620018",
   "metadata": {},
   "outputs": [
    {
     "ename": "TypeError",
     "evalue": "'Iterator' object is not subscriptable",
     "output_type": "error",
     "traceback": [
      "\u001b[0;31m---------------------------------------------------------------------------\u001b[0m",
      "\u001b[0;31mTypeError\u001b[0m                                 Traceback (most recent call last)",
      "Cell \u001b[0;32mIn[13], line 1\u001b[0m\n\u001b[0;32m----> 1\u001b[0m \u001b[43mIterator\u001b[49m\u001b[43m(\u001b[49m\u001b[43m)\u001b[49m\u001b[43m[\u001b[49m\u001b[38;5;241;43m0\u001b[39;49m\u001b[43m]\u001b[49m\n",
      "\u001b[0;31mTypeError\u001b[0m: 'Iterator' object is not subscriptable"
     ]
    }
   ],
   "source": [
    "Iterator()[0]"
   ]
  },
  {
   "cell_type": "code",
   "execution_count": 14,
   "id": "ee57781f-cab5-4ef8-9050-1fb301461085",
   "metadata": {},
   "outputs": [
    {
     "name": "stdout",
     "output_type": "stream",
     "text": [
      "1\n",
      "2\n",
      "3\n",
      "1\n"
     ]
    }
   ],
   "source": [
    "class Iterator:\n",
    "\n",
    "    def __init__(self):\n",
    "        self.data = [1,2,3]\n",
    "        self.size = len(self.data)\n",
    "        self.counter = -1\n",
    "\n",
    "    def __iter__(self):\n",
    "        return(self)\n",
    "\n",
    "    def __next__(self):\n",
    "        self.counter += 1\n",
    "        if self.counter < self.size:\n",
    "            return self.data[self.counter]\n",
    "        else:\n",
    "            raise StopIteration\n",
    "\n",
    "    def __getitem__(self, idx: int):\n",
    "        return self.data[idx]\n",
    "\n",
    "new_iterator = Iterator()\n",
    "for x in new_iterator:\n",
    "    print(x)\n",
    "print(new_iterator[0])"
   ]
  },
  {
   "cell_type": "code",
   "execution_count": null,
   "id": "fb378bbc-5c83-4e2f-85da-4ca415351e5c",
   "metadata": {},
   "outputs": [],
   "source": []
  }
 ],
 "metadata": {
  "kernelspec": {
   "display_name": "Python 3 (ipykernel)",
   "language": "python",
   "name": "python3"
  },
  "language_info": {
   "codemirror_mode": {
    "name": "ipython",
    "version": 3
   },
   "file_extension": ".py",
   "mimetype": "text/x-python",
   "name": "python",
   "nbconvert_exporter": "python",
   "pygments_lexer": "ipython3",
   "version": "3.10.8"
  }
 },
 "nbformat": 4,
 "nbformat_minor": 5
}
