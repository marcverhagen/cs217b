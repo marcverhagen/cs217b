{
 "cells": [
  {
   "cell_type": "markdown",
   "metadata": {},
   "source": [
    "# Working with Numpy\n",
    "\n",
    "Preliminary notes on working with Numpy, rather incomplete.\n",
    "\n",
    "More details:\n",
    "\n",
    "- https://www.w3schools.com/python/numpy/default.asp\n",
    "\n",
    "These notes are mostly focused on numpy as used in pandas, in particular:\n",
    "\n",
    "- <a href=\"#ndarray\">np.ndarray</a>\n",
    "- <a href=\"#random\">np.random</a>"
   ]
  },
  {
   "cell_type": "code",
   "execution_count": 1,
   "metadata": {},
   "outputs": [],
   "source": [
    "import numpy as np"
   ]
  },
  {
   "cell_type": "markdown",
   "metadata": {},
   "source": [
    "## numpy.ndarray <a name=\"ndarray\"/>\n",
    "\n",
    "- https://numpy.org/doc/stable/reference/arrays.ndarray.html\n",
    "- https://numpy.org/doc/stable/reference/generated/numpy.ndarray.html"
   ]
  },
  {
   "cell_type": "code",
   "execution_count": 2,
   "metadata": {},
   "outputs": [
    {
     "name": "stdout",
     "output_type": "stream",
     "text": [
      "[[ 1152921504606846976  1152921504606846976 -9223372036854775800]\n",
      " [                   0           4294967296                    0]]\n",
      "[[1152921504606846976 1152921504606846976      35871566856197]\n",
      " [5572452859464646656                   0                   0]]\n"
     ]
    }
   ],
   "source": [
    "# These will both give you a new empty but leave its allocated memory unchanged (i.e., it contains random\n",
    "# values and rerunning it gives you different values). In the second case you explicitely create empty input.\n",
    "\n",
    "a1 = np.ndarray(shape=(2,3), dtype=int)\n",
    "a2 = np.ndarray(shape=(2,3), dtype=int, buffer=np.empty((2,3)))\n",
    "print(a1)\n",
    "print(a2)"
   ]
  },
  {
   "cell_type": "code",
   "execution_count": 3,
   "metadata": {},
   "outputs": [
    {
     "data": {
      "text/plain": [
       "array([[0, 0, 0, 0, 0],\n",
       "       [0, 0, 0, 0, 0]])"
      ]
     },
     "execution_count": 3,
     "metadata": {},
     "output_type": "execute_result"
    }
   ],
   "source": [
    "# Put in zero values, without dtype you will get floats because that is the default. The input buffer can\n",
    "# be larger than the shape defined by the ndarray but it cannot be smaller. We have 2 rows and 5 columns.\n",
    "\n",
    "np.ndarray(shape=(2,5), dtype=int, buffer=np.zeros((10,10)))"
   ]
  },
  {
   "cell_type": "code",
   "execution_count": 4,
   "metadata": {},
   "outputs": [
    {
     "data": {
      "text/plain": [
       "array([[10, 10, 10, 10, 10, 10],\n",
       "       [10, 10, 10, 10, 10, 10]])"
      ]
     },
     "execution_count": 4,
     "metadata": {},
     "output_type": "execute_result"
    }
   ],
   "source": [
    "# Put in some value.\n",
    "\n",
    "np.ndarray(shape=(2,6), dtype=int, buffer=np.full((2,6), 10))"
   ]
  },
  {
   "cell_type": "code",
   "execution_count": 5,
   "metadata": {},
   "outputs": [
    {
     "name": "stdout",
     "output_type": "stream",
     "text": [
      "[10 10 10 10 10]\n",
      "[10 10  0 10 10]\n"
     ]
    }
   ],
   "source": [
    "# Changing cells, we are accessing the cell in the second row and the third column.\n",
    "\n",
    "array = np.ndarray(shape=(3,5), dtype=int, buffer=np.full((3,5), 10))\n",
    "print(array[1])\n",
    "array[1][2] = 0\n",
    "print(array[1])"
   ]
  },
  {
   "cell_type": "code",
   "execution_count": 6,
   "metadata": {},
   "outputs": [
    {
     "name": "stdout",
     "output_type": "stream",
     "text": [
      "4 4\n"
     ]
    }
   ],
   "source": [
    "# two ways of accessing: array[x,y] and array[x,y]}\n",
    "\n",
    "array = np.array([[1,2,3],[4,5,6]])\n",
    "print(array[1][0], array[1,0])"
   ]
  },
  {
   "cell_type": "code",
   "execution_count": 7,
   "metadata": {},
   "outputs": [
    {
     "name": "stdout",
     "output_type": "stream",
     "text": [
      "['' '' '' '' '' '']\n",
      "['' '' '' '' '' '']\n"
     ]
    },
    {
     "data": {
      "text/plain": [
       "array([['', '', '', '', '', ''],\n",
       "       ['', '', '', '', '', '']], dtype='<U0')"
      ]
     },
     "execution_count": 7,
     "metadata": {},
     "output_type": "execute_result"
    }
   ],
   "source": [
    "# Cannot do that with a string, because, well, it is numpy not strpy. It does not give you an error though\n",
    "# and gives you a weird dtype. Probably just stay away from that.\n",
    "\n",
    "array = np.ndarray(shape=(2,6), dtype=str, buffer=np.full((2,6), 'hoppa'))\n",
    "print(array[0])\n",
    "array[0][0] = 'ole!'\n",
    "print(array[0])\n",
    "array"
   ]
  },
  {
   "cell_type": "code",
   "execution_count": 8,
   "metadata": {},
   "outputs": [
    {
     "name": "stdout",
     "output_type": "stream",
     "text": [
      "<class 'numpy.ndarray'>  dtype=int64\n"
     ]
    },
    {
     "data": {
      "text/plain": [
       "array([[1, 2],\n",
       "       [3, 4]])"
      ]
     },
     "execution_count": 8,
     "metadata": {},
     "output_type": "execute_result"
    }
   ],
   "source": [
    "# Create an nparray straight from an array\n",
    "\n",
    "array = np.array([[1, 2], [3, 4]])\n",
    "print(f'{type(array)}  dtype={array.dtype}')\n",
    "array"
   ]
  },
  {
   "cell_type": "code",
   "execution_count": 9,
   "metadata": {},
   "outputs": [
    {
     "name": "stdout",
     "output_type": "stream",
     "text": [
      "[1 3] [2 4]\n"
     ]
    }
   ],
   "source": [
    "# The dtype is a bit of a mystery to me\n",
    "# https://numpy.org/doc/stable/reference/generated/numpy.dtype.html\n",
    "# the following gives you columns, could have used ''<i2' or '<i1' as well\n",
    "\n",
    "x = np.array([(1,2),(3,4)],dtype=[('a','<i4'),('b','<i1')])\n",
    "print(x['a'], x['b'])"
   ]
  },
  {
   "cell_type": "code",
   "execution_count": 10,
   "metadata": {},
   "outputs": [
    {
     "name": "stdout",
     "output_type": "stream",
     "text": [
      "90 <class 'numpy.ndarray'> True False 100\n",
      "\n",
      "[[[1 2 3]\n",
      "  [4 5 6]]\n",
      "\n",
      " [[1 2 3]\n",
      "  [7 8 9]]]\n",
      "\n",
      "[[[[[1 2 3 4]]]]]\n",
      "number of dimensions : 5\n"
     ]
    }
   ],
   "source": [
    "# zero-dimensional, three-dimensional and multi-dimensional\n",
    "\n",
    "# this is an array but also acts like a scalar\n",
    "array = np.array(90)\n",
    "print(array, type(array), array == 90, array == 99, array + 10, end='\\n\\n')\n",
    "\n",
    "array = np.array([[[1, 2, 3], [4, 5, 6]], [[1, 2, 3], [7, 8, 9]]])\n",
    "print(array, end='\\n\\n')\n",
    "\n",
    "array = np.array([1, 2, 3, 4], ndmin=5)\n",
    "print(array)\n",
    "print('number of dimensions :', array.ndim)"
   ]
  },
  {
   "cell_type": "code",
   "execution_count": 11,
   "metadata": {},
   "outputs": [
    {
     "name": "stdout",
     "output_type": "stream",
     "text": [
      "[1 2 3]\n",
      "[1 2 3]\n"
     ]
    }
   ],
   "source": [
    "# row-major versus column-major\n",
    "# seems to be mostly about in-memory layout\n",
    "# https://en.wikipedia.org/wiki/Row-_and_column-major_order\n",
    "\n",
    "array = np.array([[1,2,3],[4,5,6]], order='C')\n",
    "print(array[0])\n",
    "\n",
    "array = np.array([[1,2,3],[4,5,6]], order='F')\n",
    "print(array[0])"
   ]
  },
  {
   "cell_type": "code",
   "execution_count": 12,
   "metadata": {},
   "outputs": [
    {
     "name": "stdout",
     "output_type": "stream",
     "text": [
      "3.5 [2.5 3.5 4.5] [2. 5.]\n"
     ]
    }
   ],
   "source": [
    "print(\n",
    "    np.array([[1,2,3],[4,5,6]]).mean(),\n",
    "    np.array([[1,2,3],[4,5,6]]).mean(0),\n",
    "    np.array([[1,2,3],[4,5,6]]).mean(1))"
   ]
  },
  {
   "cell_type": "code",
   "execution_count": 13,
   "metadata": {},
   "outputs": [
    {
     "name": "stdout",
     "output_type": "stream",
     "text": [
      "[[ 0  1  2  3  4  5  6  7  8]\n",
      " [ 9 10 11 12 13 14 15 16 17]\n",
      " [18 19 20 21 22 23 24 25 26]]\n",
      "\n",
      "[[[ 0  1  2]\n",
      "  [ 3  4  5]\n",
      "  [ 6  7  8]]\n",
      "\n",
      " [[ 9 10 11]\n",
      "  [12 13 14]\n",
      "  [15 16 17]]\n",
      "\n",
      " [[18 19 20]\n",
      "  [21 22 23]\n",
      "  [24 25 26]]]\n"
     ]
    }
   ],
   "source": [
    "print(np.arange(27).reshape((3,9)), end='\\n\\n')\n",
    "print(np.arange(27).reshape((3,3,3)))"
   ]
  },
  {
   "cell_type": "markdown",
   "metadata": {},
   "source": [
    "## numpy.random <a name=\"random\"></a>\n",
    "\n",
    "- https://numpy.org/doc/stable/reference/random/index.html\n",
    "- https://numpy.org/doc/stable/reference/random/generated/numpy.random.rand.html\n",
    "- https://numpy.org/doc/stable/reference/random/generated/numpy.random.normal.html"
   ]
  },
  {
   "cell_type": "code",
   "execution_count": 44,
   "metadata": {},
   "outputs": [
    {
     "data": {
      "text/plain": [
       "array([[0.37256614, 0.56669596, 0.77546895, 0.18228675, 0.64546993],\n",
       "       [0.35290813, 0.56794851, 0.45316717, 0.83217913, 0.75111696],\n",
       "       [0.52881271, 0.48970144, 0.60287095, 0.64120829, 0.24909369]])"
      ]
     },
     "execution_count": 44,
     "metadata": {},
     "output_type": "execute_result"
    }
   ],
   "source": [
    "# Create an array with the given shape with random numbers between 0 and 1, actually, number is in [0,1)\n",
    "\n",
    "np.random.rand(3,5)"
   ]
  },
  {
   "cell_type": "code",
   "execution_count": 15,
   "metadata": {},
   "outputs": [
    {
     "name": "stdout",
     "output_type": "stream",
     "text": [
      "0.558624317817056 8.95739651691521\n"
     ]
    }
   ],
   "source": [
    "# Return one random number from a Gausian distribution. You can give a number as an argument\n",
    "# which gives some kind of a range, but it does not serve as a strict range.\n",
    "\n",
    "print(\n",
    "    np.random.normal(),\n",
    "    np.random.normal(10))"
   ]
  },
  {
   "cell_type": "code",
   "execution_count": 60,
   "metadata": {},
   "outputs": [
    {
     "data": {
      "text/plain": [
       "array([ 1.57906567,  0.80833633, -0.53700709, -0.40939393, -0.67742872,\n",
       "        0.49380391, -0.91201225, -0.20768049, -0.41424752,  1.26916781])"
      ]
     },
     "execution_count": 60,
     "metadata": {},
     "output_type": "execute_result"
    }
   ],
   "source": [
    "# Return a list of random numbers, it pulls from a Gaussian distribution and you give it the \n",
    "# center of the distribution, the standard deviation and the length of the list.\n",
    "\n",
    "np.random.normal(0.0, 1.0, 10)"
   ]
  },
  {
   "cell_type": "markdown",
   "metadata": {},
   "source": [
    "## Others"
   ]
  },
  {
   "cell_type": "code",
   "execution_count": 63,
   "metadata": {},
   "outputs": [
    {
     "data": {
      "text/plain": [
       "array([  0.,  25.,  50.,  75., 100.])"
      ]
     },
     "execution_count": 63,
     "metadata": {},
     "output_type": "execute_result"
    }
   ],
   "source": [
    "# Print 5 numbers from 0 to 100 evenly soaced\n",
    "\n",
    "np.linspace(0, 100, 5)"
   ]
  },
  {
   "cell_type": "code",
   "execution_count": 64,
   "metadata": {},
   "outputs": [
    {
     "data": {
      "text/plain": [
       "array([1, 1, 1, 1, 1, 1, 1, 1, 1, 1])"
      ]
     },
     "execution_count": 64,
     "metadata": {},
     "output_type": "execute_result"
    }
   ],
   "source": [
    "# Create an arry of the same number of the given length\n",
    "\n",
    "np.repeat(1, 10)"
   ]
  }
 ],
 "metadata": {
  "kernelspec": {
   "display_name": "Python 3",
   "language": "python",
   "name": "python3"
  },
  "language_info": {
   "codemirror_mode": {
    "name": "ipython",
    "version": 3
   },
   "file_extension": ".py",
   "mimetype": "text/x-python",
   "name": "python",
   "nbconvert_exporter": "python",
   "pygments_lexer": "ipython3",
   "version": "3.8.9"
  }
 },
 "nbformat": 4,
 "nbformat_minor": 5
}
